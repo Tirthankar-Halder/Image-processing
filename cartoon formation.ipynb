{
 "cells": [
  {
   "cell_type": "markdown",
   "metadata": {},
   "source": [
    "# Step 1: Edge-aware smoothing using a bilateral filter\n",
    "### Because a bilateral filter smooths flat regions while keeping edges sharp, it is ideally suited to convert an RGB image into a cartoon. Unfortunately, bilateral filters are orders of magnitudes slower than other smoothing operators (e.g., Gaussian blur). Thus, if speed is important, it might be a good idea to operate on a down-scaled version of the original image. However, even at a reduced scale the bilateral filter might still be horrendously slow. Another trick is therefore to repeatedly (say, seven times via num_bilateral=7) apply a small bilateral filter instead of applying a large bilateral filter once:# "
   ]
  },
  {
   "cell_type": "code",
   "execution_count": 11,
   "metadata": {},
   "outputs": [],
   "source": [
    "import cv2\n",
    "\n",
    "num_down = 2       # number of downsampling steps\n",
    "num_bilateral = 7  # number of bilateral filtering steps\n",
    "\n",
    "img_rgb = cv2.imread(\"123656945_193155505664825_1680275345377980465_o.jpg\")\n",
    "\n",
    "# downsample image using Gaussian pyramid\n",
    "img_color = img_rgb\n",
    "xrange = range\n",
    "for _ in xrange(num_down):\n",
    "    img_color = cv2.pyrDown(img_color)\n",
    "\n",
    "# repeatedly apply small bilateral filter instead of\n",
    "# applying one large filter\n",
    "for _ in xrange(num_bilateral):\n",
    "    img_color = cv2.bilateralFilter(img_color, d=9,\n",
    "                                    sigmaColor=9,\n",
    "                                    sigmaSpace=7)\n",
    "\n",
    "# upsample image to original size\n",
    "for _ in xrange(num_down):\n",
    "    img_color = cv2.pyrUp(img_color)"
   ]
  },
  {
   "cell_type": "markdown",
   "metadata": {},
   "source": [
    "### The three parameters in cv2.bilateralFilter control the diameter of the pixel neighborhood (d) and the standard deviation of the filter in color space (sigmaColor) as well as coordinate space (sigmaSpace).\n",
    "\n",
    "# Steps 2-3: Reduce noise using a median filter\n",
    "### OpenCV offers a variety of choices when it comes to edge detection. The beauty of adaptive thresholding is that it detects the most salient features in each (small) neighborhood of an image, independent of the overall properties of the image, which is exactly what we want when we seek to draw bold, black outlines around objects and people in a cartoon. However, this property also makes adaptive thresholding susceptible to noise. It is therefor a good idea to pre-process the image with a median filter, which replaces each pixel value with the median value of all the pixels in a small (e.g., 7 pixel) neighborhood:"
   ]
  },
  {
   "cell_type": "code",
   "execution_count": 12,
   "metadata": {},
   "outputs": [],
   "source": [
    "# convert to grayscale and apply median blur\n",
    "img_gray = cv2.cvtColor(img_rgb, cv2.COLOR_RGB2GRAY)\n",
    "img_blur = cv2.medianBlur(img_gray, 7)"
   ]
  },
  {
   "cell_type": "markdown",
   "metadata": {},
   "source": [
    "# Step 4: Create an edge mask using adaptive thresholding\n",
    "### After noise reduction it is safe to apply adaptive thresholding. Even if there is some image noise left, the cv2.ADAPTIVE_THRESH_MEAN_C algorithm with blockSize=9 will ensure that the threshold is applied to the mean of a 9x9 neighborhood minus C=2:### "
   ]
  },
  {
   "cell_type": "code",
   "execution_count": 13,
   "metadata": {},
   "outputs": [],
   "source": [
    "# detect and enhance edges\n",
    "img_edge = cv2.adaptiveThreshold(img_blur, 255,\n",
    "                                 cv2.ADAPTIVE_THRESH_MEAN_C,\n",
    "                                 cv2.THRESH_BINARY,\n",
    "                                 blockSize=9,\n",
    "                                 C=2)"
   ]
  },
  {
   "cell_type": "markdown",
   "metadata": {},
   "source": [
    "# Step 5: Combine color image with edge mask\n",
    "### The last step is to combine the processed color image (img_color) with the edge mask (img_edge):"
   ]
  },
  {
   "cell_type": "code",
   "execution_count": 14,
   "metadata": {},
   "outputs": [
    {
     "data": {
      "text/plain": [
       "True"
      ]
     },
     "execution_count": 14,
     "metadata": {},
     "output_type": "execute_result"
    }
   ],
   "source": [
    "# convert back to color, bit-AND with color image\n",
    "img_edge = cv2.cvtColor(img_edge, cv2.COLOR_GRAY2RGB)\n",
    "img_cartoon = cv2.bitwise_and(img_color, img_edge)\n",
    "\n",
    "# display\n",
    "#cv2.imshow(\"cartoon\", img_cartoon)\n",
    "# Filename \n",
    "filename = 'savedImage1.jpg'\n",
    "  \n",
    "# Using cv2.imwrite() method \n",
    "# Saving the image \n",
    "cv2.imwrite(filename,img_cartoon) "
   ]
  },
  {
   "cell_type": "code",
   "execution_count": null,
   "metadata": {},
   "outputs": [],
   "source": []
  }
 ],
 "metadata": {
  "kernelspec": {
   "display_name": "Python 3",
   "language": "python",
   "name": "python3"
  },
  "language_info": {
   "codemirror_mode": {
    "name": "ipython",
    "version": 3
   },
   "file_extension": ".py",
   "mimetype": "text/x-python",
   "name": "python",
   "nbconvert_exporter": "python",
   "pygments_lexer": "ipython3",
   "version": "3.8.6"
  }
 },
 "nbformat": 4,
 "nbformat_minor": 4
}
